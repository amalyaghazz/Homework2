{
 "cells": [
  {
   "cell_type": "code",
   "execution_count": 1,
   "id": "63d6c71b",
   "metadata": {},
   "outputs": [
    {
     "name": "stdout",
     "output_type": "stream",
     "text": [
      "0\n",
      "1\n",
      "2\n",
      "3\n",
      "4\n"
     ]
    }
   ],
   "source": [
    "n = 0\n",
    "while n<5:\n",
    "    print(n)\n",
    "    n+=1"
   ]
  },
  {
   "cell_type": "code",
   "execution_count": 2,
   "id": "265eddc8",
   "metadata": {},
   "outputs": [
    {
     "name": "stdout",
     "output_type": "stream",
     "text": [
      "0\n",
      "1\n",
      "2\n",
      "3\n",
      "4\n",
      "5 is not less than 5\n"
     ]
    }
   ],
   "source": [
    "n = 0\n",
    "while n<5:\n",
    "    print(n)\n",
    "    n+=1\n",
    "else: \n",
    "    print(\"5 is not less than 5\")"
   ]
  },
  {
   "cell_type": "code",
   "execution_count": 6,
   "id": "d74b541f",
   "metadata": {},
   "outputs": [
    {
     "name": "stdout",
     "output_type": "stream",
     "text": [
      "I like orange\n",
      "I like banana\n",
      "apple is really a fruit?\n"
     ]
    }
   ],
   "source": [
    "fruitList = [\"orange\", \"banana\", \"apple\"]\n",
    "for i in fruitList:\n",
    "    if'p'in i:\n",
    "        continue\n",
    "    print(\"I like\", i)\n",
    "else:\n",
    "    print(i, \"is really a fruit?\")\n",
    "        "
   ]
  },
  {
   "cell_type": "code",
   "execution_count": 7,
   "id": "703abf6a",
   "metadata": {},
   "outputs": [
    {
     "name": "stdout",
     "output_type": "stream",
     "text": [
      "sum = 465\n"
     ]
    }
   ],
   "source": [
    "n = 30\n",
    "total_numbers = n\n",
    "sum = 0\n",
    "while n>=0:\n",
    "    sum+= n\n",
    "    n-=1\n",
    "print(\"sum =\", sum)"
   ]
  },
  {
   "cell_type": "code",
   "execution_count": 10,
   "id": "56d21d99",
   "metadata": {},
   "outputs": [
    {
     "name": "stdout",
     "output_type": "stream",
     "text": [
      "C\n"
     ]
    }
   ],
   "source": [
    "grade = 72\n",
    "\n",
    "if grade >= 90:\n",
    "    print(\"A\")\n",
    "elif grade >= 80:\n",
    "    print(\"B\")\n",
    "elif grade >= 70:\n",
    "    print(\"C\")\n",
    "elif grade >= 60:\n",
    "    print(\"D\")\n",
    "else:\n",
    "    print(\"F\")"
   ]
  },
  {
   "cell_type": "code",
   "execution_count": 11,
   "id": "d2518a90",
   "metadata": {},
   "outputs": [
    {
     "name": "stdout",
     "output_type": "stream",
     "text": [
      "Andy has a grade of 88\n",
      "Amy has a grade of 66\n",
      "James has a grade of 90\n",
      "Jules has a grade of 55\n",
      "Arthur has a grade of 77\n"
     ]
    }
   ],
   "source": [
    "marks = {'Andy':88, 'Amy':66, 'James':90, 'Jules':55, 'Arthur':77}\n",
    "for student in marks:\n",
    "    print(student, \"has a grade of\", marks[student])"
   ]
  },
  {
   "cell_type": "code",
   "execution_count": 14,
   "id": "fcd7eb7f",
   "metadata": {},
   "outputs": [
    {
     "name": "stdout",
     "output_type": "stream",
     "text": [
      "The mean is 75.2\n",
      "The max is 90\n",
      "The min is 55\n"
     ]
    }
   ],
   "source": [
    "grades = list(marks.values())\n",
    "\n",
    "mean = 0 \n",
    "for val in marks.values():\n",
    "    mean += val \n",
    "mean = mean / len(marks)\n",
    "\n",
    "print(\"The mean is\", str(mean))\n",
    "print(\"The max is\", max(grades))\n",
    "print(\"The min is\", min(grades))\n"
   ]
  },
  {
   "cell_type": "code",
   "execution_count": 15,
   "id": "3897ad2a",
   "metadata": {},
   "outputs": [
    {
     "name": "stdout",
     "output_type": "stream",
     "text": [
      "Andy\n",
      "Amy\n"
     ]
    }
   ],
   "source": [
    "for student in marks:\n",
    "    if 'J' in student:\n",
    "        break\n",
    "    print(student)"
   ]
  },
  {
   "cell_type": "code",
   "execution_count": 17,
   "id": "4b3c4b75",
   "metadata": {},
   "outputs": [
    {
     "name": "stdout",
     "output_type": "stream",
     "text": [
      "Andy\n",
      "Amy\n",
      "Arthur\n"
     ]
    }
   ],
   "source": [
    "for student in marks:\n",
    "    if 'J' in student:\n",
    "        continue\n",
    "    print(student)"
   ]
  },
  {
   "cell_type": "code",
   "execution_count": null,
   "id": "dc866e5d",
   "metadata": {},
   "outputs": [],
   "source": []
  }
 ],
 "metadata": {
  "kernelspec": {
   "display_name": "Python 3 (ipykernel)",
   "language": "python",
   "name": "python3"
  },
  "language_info": {
   "codemirror_mode": {
    "name": "ipython",
    "version": 3
   },
   "file_extension": ".py",
   "mimetype": "text/x-python",
   "name": "python",
   "nbconvert_exporter": "python",
   "pygments_lexer": "ipython3",
   "version": "3.9.13"
  }
 },
 "nbformat": 4,
 "nbformat_minor": 5
}
